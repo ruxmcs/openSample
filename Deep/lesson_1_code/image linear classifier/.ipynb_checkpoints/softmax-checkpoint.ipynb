{
 "cells": [
  {
   "cell_type": "markdown",
   "metadata": {},
   "source": [
    "# 图像Softmax分类器\n",
    "\n",
    "和图像SVM分类器一样，我们在这里用不同的损失函数实现一个Softmax分类器：\n",
    "\n",
    "- 完成基于互熵损失的Softmax分类器\n",
    "- 完成解析梯度的向量化计算\n",
    "- 会用数值梯度去校验解析梯度的准确性\n",
    "- 用验证集去调正则化和学习率\n",
    "- 用随机梯度下降最小化损失函数\n",
    "- 可视化结果权重"
   ]
  },
  {
   "cell_type": "code",
   "execution_count": 1,
   "metadata": {
    "collapsed": false
   },
   "outputs": [],
   "source": [
    "import random\n",
    "import numpy as np\n",
    "from basic.data_utils import load_CIFAR10\n",
    "import matplotlib.pyplot as plt\n",
    "%matplotlib inline\n",
    "plt.rcParams['figure.figsize'] = (10.0, 8.0) # 设定绘图参数\n",
    "plt.rcParams['image.interpolation'] = 'nearest'\n",
    "plt.rcParams['image.cmap'] = 'gray'\n",
    "\n",
    "%load_ext autoreload\n",
    "%autoreload 2"
   ]
  },
  {
   "cell_type": "code",
   "execution_count": 2,
   "metadata": {
    "collapsed": false
   },
   "outputs": [
    {
     "name": "stdout",
     "output_type": "stream",
     "text": [
      "Train data shape:  (3073, 49000)\n",
      "Train labels shape:  (49000,)\n",
      "Validation data shape:  (3073, 1000)\n",
      "Validation labels shape:  (1000,)\n",
      "Test data shape:  (3073, 1000)\n",
      "Test labels shape:  (1000,)\n"
     ]
    }
   ],
   "source": [
    "def get_CIFAR10_data(num_training=49000, num_validation=1000, num_test=1000):\n",
    "  \"\"\"\n",
    "  把CIFAR-10数据集读入，并预处理成线性分类器能用的格式 \n",
    "  \"\"\"\n",
    "  # 读入数据集\n",
    "  cifar10_dir = 'basic/datasets/cifar-10-batches-py'\n",
    "  X_train, y_train, X_test, y_test = load_CIFAR10(cifar10_dir)\n",
    "  \n",
    "  # 去一部分数据用\n",
    "  mask = range(num_training, num_training + num_validation)\n",
    "  X_val = X_train[mask]\n",
    "  y_val = y_train[mask]\n",
    "  mask = range(num_training)\n",
    "  X_train = X_train[mask]\n",
    "  y_train = y_train[mask]\n",
    "  mask = range(num_test)\n",
    "  X_test = X_test[mask]\n",
    "  y_test = y_test[mask]\n",
    "\n",
    "  # 预处理：把数据展成一列\n",
    "  X_train = np.reshape(X_train, (X_train.shape[0], -1))\n",
    "  X_val = np.reshape(X_val, (X_val.shape[0], -1))\n",
    "  X_test = np.reshape(X_test, (X_test.shape[0], -1))\n",
    "  \n",
    "  # 减掉图像均值，做0均值处理\n",
    "  mean_image = np.mean(X_train, axis = 0)\n",
    "  X_train -= mean_image\n",
    "  X_val -= mean_image\n",
    "  X_test -= mean_image\n",
    "  \n",
    "  # 咱把bias那一项加上\n",
    "  X_train = np.hstack([X_train, np.ones((X_train.shape[0], 1))]).T\n",
    "  X_val = np.hstack([X_val, np.ones((X_val.shape[0], 1))]).T\n",
    "  X_test = np.hstack([X_test, np.ones((X_test.shape[0], 1))]).T\n",
    "  \n",
    "  return X_train, y_train, X_val, y_val, X_test, y_test\n",
    "\n",
    "\n",
    "# 调用函数得到各种数据，并输出维度\n",
    "X_train, y_train, X_val, y_val, X_test, y_test = get_CIFAR10_data()\n",
    "print 'Train data shape: ', X_train.shape\n",
    "print 'Train labels shape: ', y_train.shape\n",
    "print 'Validation data shape: ', X_val.shape\n",
    "print 'Validation labels shape: ', y_val.shape\n",
    "print 'Test data shape: ', X_test.shape\n",
    "print 'Test labels shape: ', y_test.shape"
   ]
  },
  {
   "cell_type": "markdown",
   "metadata": {},
   "source": [
    "## Softmax 分类器\n",
    "\n",
    "具体的softmax分类器代码可以看 **basic/classifiers/softmax.py**. \n"
   ]
  },
  {
   "cell_type": "code",
   "execution_count": 3,
   "metadata": {
    "collapsed": false
   },
   "outputs": [
    {
     "name": "stdout",
     "output_type": "stream",
     "text": [
      "loss: 2.431932\n",
      "sanity check: 2.302585\n"
     ]
    }
   ],
   "source": [
    "# 同样实现一个非常易懂但是效率很低的softmax损失函数计算\n",
    "\n",
    "from basic.classifiers.softmax import softmax_loss_naive\n",
    "import time\n",
    "\n",
    "# 随便初始化一个权重序列，然后计算损失函数\n",
    "W = np.random.randn(10, 3073) * 0.0001\n",
    "loss, grad = softmax_loss_naive(W, X_train, y_train, 0.0)\n",
    "\n",
    "# 总共有10类，如果我们随机猜，损失应该是-log(0.1).\n",
    "print 'loss: %f' % loss\n",
    "print 'sanity check: %f' % (-np.log(0.1))"
   ]
  },
  {
   "cell_type": "code",
   "execution_count": 5,
   "metadata": {
    "collapsed": false
   },
   "outputs": [
    {
     "name": "stdout",
     "output_type": "stream",
     "text": [
      "numerical: -0.110578 analytic: -0.110579, relative error: 0.000\n",
      "numerical: -0.576297 analytic: -0.576297, relative error: 0.000\n",
      "numerical: -0.667831 analytic: -0.667831, relative error: 0.000\n",
      "numerical: 2.557195 analytic: 2.557195, relative error: 0.000\n",
      "numerical: -0.586606 analytic: -0.586606, relative error: 0.000\n",
      "numerical: 0.488324 analytic: 0.488324, relative error: 0.000\n",
      "numerical: 0.469573 analytic: 0.469573, relative error: 0.000\n",
      "numerical: -0.633575 analytic: -0.633575, relative error: 0.000\n",
      "numerical: 0.348785 analytic: 0.348785, relative error: 0.000\n",
      "numerical: 0.030318 analytic: 0.030318, relative error: 0.000\n"
     ]
    }
   ],
   "source": [
    "# 用多层for循环实现一个梯度计算\n",
    "loss, grad = softmax_loss_naive(W, X_train, y_train, 0.0)\n",
    "\n",
    "# 同样要做一下梯度检查\n",
    "from basic.gradient_check import grad_check_sparse\n",
    "f = lambda w: softmax_loss_naive(w, X_train, y_train, 0.0)[0]\n",
    "grad_numerical = grad_check_sparse(f, W, grad, 10)"
   ]
  },
  {
   "cell_type": "code",
   "execution_count": 8,
   "metadata": {
    "collapsed": false
   },
   "outputs": [
    {
     "name": "stdout",
     "output_type": "stream",
     "text": [
      "非向量化的损失计算结果: 2.431932e+00 ，花费时间 3.969373s\n",
      "向量化的损失计算结果: 2.431932e+00 ，花费时间 0.183363s\n",
      "两种方法计算到的loss差异: 0.000000\n",
      "两种方法计算到的梯度差异: 0.000000\n"
     ]
    }
   ],
   "source": [
    "# 实现一个非向量化的损失函数和梯度计算方法\n",
    "tic = time.time()\n",
    "loss_naive, grad_naive = softmax_loss_naive(W, X_train, y_train, 0.00001)\n",
    "toc = time.time()\n",
    "print '非向量化的损失计算结果: %e ，花费时间 %fs' % (loss_naive, toc - tic)\n",
    "\n",
    "# 调用向量化的损失函数和梯度计算函数\n",
    "from basic.classifiers.softmax import softmax_loss_vectorized\n",
    "tic = time.time()\n",
    "loss_vectorized, grad_vectorized = softmax_loss_vectorized(W, X_train, y_train, 0.00001)\n",
    "toc = time.time()\n",
    "print '向量化的损失计算结果: %e ，花费时间 %fs' % (loss_vectorized, toc - tic)\n",
    "\n",
    "# 咱们对比一下用for循环实现的函数和用向量化实现的函数差别\n",
    "grad_difference = np.linalg.norm(grad_naive - grad_vectorized, ord='fro')\n",
    "print '两种方法计算到的loss差异: %f' % np.abs(loss_naive - loss_vectorized)\n",
    "print '两种方法计算到的梯度差异: %f' % grad_difference"
   ]
  },
  {
   "cell_type": "code",
   "execution_count": 9,
   "metadata": {
    "collapsed": false
   },
   "outputs": [
    {
     "name": "stdout",
     "output_type": "stream",
     "text": [
      "Training with hyper parameter learning rate: 5.000000e-07, regularization: 5.000000e+04\n",
      "Training with hyper parameter learning rate: 5.000000e-07, regularization: 1.000000e+05\n",
      "Training with hyper parameter learning rate: 1.000000e-07, regularization: 5.000000e+04\n",
      "Training with hyper parameter learning rate: 1.000000e-07, regularization: 1.000000e+05\n",
      "Training with hyper parameter learning rate: 5.000000e-06, regularization: 5.000000e+04\n",
      "Training with hyper parameter learning rate: 5.000000e-06, regularization: 1.000000e+05\n",
      "Training with hyper parameter learning rate: 1.000000e-06, regularization: 5.000000e+04\n",
      "Training with hyper parameter learning rate: 1.000000e-06, regularization: 1.000000e+05\n",
      "学习率 1.000000e-07 正则化系数 5.000000e+04 训练准确率: 0.329408 val accuracy: 0.345000\n",
      "学习率 1.000000e-07 正则化系数 1.000000e+05 训练准确率: 0.307122 val accuracy: 0.320000\n",
      "学习率 5.000000e-07 正则化系数 5.000000e+04 训练准确率: 0.330673 val accuracy: 0.343000\n",
      "学习率 5.000000e-07 正则化系数 1.000000e+05 训练准确率: 0.308163 val accuracy: 0.316000\n",
      "学习率 1.000000e-06 正则化系数 5.000000e+04 训练准确率: 0.319857 val accuracy: 0.340000\n",
      "学习率 1.000000e-06 正则化系数 1.000000e+05 训练准确率: 0.311490 val accuracy: 0.324000\n",
      "学习率 5.000000e-06 正则化系数 5.000000e+04 训练准确率: 0.221551 val accuracy: 0.221000\n",
      "学习率 5.000000e-06 正则化系数 1.000000e+05 训练准确率: 0.135041 val accuracy: 0.145000\n",
      "在交叉验证集上最好的准确率为: 0.345000\n"
     ]
    }
   ],
   "source": [
    "# 咱们实现了一个softmax分类器\n",
    "from basic.classifiers import Softmax\n",
    "results = {}\n",
    "best_val = -1\n",
    "best_softmax = None\n",
    "learning_rates = [5e-7, 1e-7, 5e-6, 1e-6]\n",
    "regularization_strengths = [5e4, 1e5]\n",
    "\n",
    "import sys\n",
    "verbose = True\n",
    "for lr in learning_rates:\n",
    "    for reg in regularization_strengths:\n",
    "        if verbose: sys.stdout.write(\"Training with hyper parameter learning rate: %e, regularization: %e\\n\" \n",
    "                                     % ( lr, reg ))\n",
    "        softmax = Softmax()\n",
    "        loss_hist = softmax.train(X_train, y_train, learning_rate=lr, reg=reg,\n",
    "                      num_iters=1500, verbose=False)\n",
    "        \n",
    "        y_train_pred = softmax.predict(X_train)\n",
    "        training_accuracy = np.mean(y_train == y_train_pred)\n",
    "        \n",
    "        y_val_pred = softmax.predict(X_val)\n",
    "        val_accuracy = np.mean(y_val == y_val_pred)\n",
    "        \n",
    "        results[lr, reg] = (training_accuracy, val_accuracy)\n",
    "        if val_accuracy > best_val:\n",
    "            best_val = val_accuracy\n",
    "            best_softmax = softmax\n",
    "                \n",
    "# 输出结果\n",
    "for lr, reg in sorted(results):\n",
    "    train_accuracy, val_accuracy = results[(lr, reg)]\n",
    "    print '学习率 %e 正则化系数 %e 训练准确率: %f val accuracy: %f' % (\n",
    "                lr, reg, train_accuracy, val_accuracy)\n",
    "    \n",
    "print '在交叉验证集上最好的准确率为: %f' % best_val"
   ]
  },
  {
   "cell_type": "code",
   "execution_count": 10,
   "metadata": {
    "collapsed": false
   },
   "outputs": [
    {
     "name": "stdout",
     "output_type": "stream",
     "text": [
      "基于图像像素数据的softmax分类器在测试集上的准确率: 0.342000\n"
     ]
    }
   ],
   "source": [
    "# 在测试集上评估softmax分类器性能\n",
    "y_test_pred = best_softmax.predict(X_test)\n",
    "test_accuracy = np.mean(y_test == y_test_pred)\n",
    "print '基于图像像素数据的softmax分类器在测试集上的准确率: %f' % (test_accuracy, )"
   ]
  },
  {
   "cell_type": "code",
   "execution_count": 11,
   "metadata": {
    "collapsed": false
   },
   "outputs": [
    {
     "data": {
      "image/png": "[encoded data removed]",
      "text/plain": [
       "<matplotlib.figure.Figure at 0x112f26710>"
      ]
     },
     "metadata": {},
     "output_type": "display_data"
    }
   ],
   "source": [
    "# 可视化一下学习到的权重\n",
    "w = best_softmax.W[:,:-1] # strip out the bias\n",
    "w = w.reshape(10, 32, 32, 3)\n",
    "\n",
    "w_min, w_max = np.min(w), np.max(w)\n",
    "\n",
    "classes = ['plane', 'car', 'bird', 'cat', 'deer', 'dog', 'frog', 'horse', 'ship', 'truck']\n",
    "for i in xrange(10):\n",
    "  plt.subplot(2, 5, i + 1)\n",
    "  \n",
    "  # Rescale the weights to be between 0 and 255\n",
    "  wimg = 255.0 * (w[i].squeeze() - w_min) / (w_max - w_min)\n",
    "  plt.imshow(wimg.astype('uint8'))\n",
    "  plt.axis('off')\n",
    "  plt.title(classes[i])"
   ]
  },
  {
   "cell_type": "code",
   "execution_count": null,
   "metadata": {
    "collapsed": true
   },
   "outputs": [],
   "source": []
  }
 ],
 "metadata": {
  "kernelspec": {
   "display_name": "Python 2",
   "language": "python",
   "name": "python2"
  },
  "language_info": {
   "codemirror_mode": {
    "name": "ipython",
    "version": 2
   },
   "file_extension": ".py",
   "mimetype": "text/x-python",
   "name": "python",
   "nbconvert_exporter": "python",
   "pygments_lexer": "ipython2",
   "version": "2.7.10"
  }
 },
 "nbformat": 4,
 "nbformat_minor": 0
}
